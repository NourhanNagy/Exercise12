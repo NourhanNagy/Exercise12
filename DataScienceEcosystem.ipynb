{
 "cells": [
  {
   "cell_type": "markdown",
   "id": "3c165fd4",
   "metadata": {},
   "source": [
    "# Data Science Tools and Ecosystem "
   ]
  },
  {
   "cell_type": "markdown",
   "id": "e81816ba",
   "metadata": {},
   "source": [
    "In this notebook, Data Science Tools and Ecosystem are summarized."
   ]
  },
  {
   "cell_type": "markdown",
   "id": "e38efeb8",
   "metadata": {},
   "source": [
    "Some of the popular languages that Data Scientists use are:\n",
    "python\n",
    "R\n",
    "java\n",
    "javascript\n",
    "SQL\n",
    "Scala\n",
    "Julia"
   ]
  },
  {
   "cell_type": "markdown",
   "id": "d62bee4e",
   "metadata": {},
   "source": [
    "Some of the commonly used libraries used by Data Scientists include:\n",
    "pandas\n",
    "matplotlib\n",
    "tensorflow\n",
    "numpy\n",
    "scipy\n",
    "pytorch\n",
    "scklit--learn"
   ]
  },
  {
   "cell_type": "markdown",
   "id": "3d0171b5",
   "metadata": {},
   "source": [
    "Data Science Tools\n",
    "jupyter notebook\n",
    "vs code\n",
    "google collab\n",
    "apache spark\n",
    "r studio\n",
    "watson studio \n",
    "python\n",
    "anaconda"
   ]
  },
  {
   "cell_type": "markdown",
   "id": "e23416eb",
   "metadata": {},
   "source": [
    "Below are a few examples of evaluating arithmetic expressions in Python.\n",
    "+ addition\n",
    "- subtraction\n",
    "== equal\n",
    "=! not equal\n",
    "/ division\n",
    "\\ reminder\n"
   ]
  },
  {
   "cell_type": "code",
   "execution_count": 1,
   "id": "fc44e07e",
   "metadata": {},
   "outputs": [
    {
     "name": "stdout",
     "output_type": "stream",
     "text": [
      "17\n"
     ]
    }
   ],
   "source": [
    "x= 3\n",
    "y=4\n",
    "z=5\n",
    "m=(x*y)+z\n",
    "print(m)"
   ]
  },
  {
   "cell_type": "code",
   "execution_count": 2,
   "id": "48eff1fd",
   "metadata": {},
   "outputs": [
    {
     "name": "stdout",
     "output_type": "stream",
     "text": [
      "3.3333333333333335\n"
     ]
    }
   ],
   "source": [
    "m=200\n",
    "h=60\n",
    "mh=m/h\n",
    "print(mh)"
   ]
  },
  {
   "cell_type": "markdown",
   "id": "2d7d5e6f",
   "metadata": {},
   "source": [
    "**Objectives: \n",
    " - libraries\n",
    " - languages\n",
    " - tools\n",
    " - arithmatic operations\n",
    " - python code\n"
   ]
  },
  {
   "cell_type": "markdown",
   "id": "75720b3c",
   "metadata": {},
   "source": [
    "## Author\n",
    "Nourhan Nagy\n",
    "\n"
   ]
  }
 ],
 "metadata": {
  "kernelspec": {
   "display_name": "Python 3 (ipykernel)",
   "language": "python",
   "name": "python3"
  },
  "language_info": {
   "codemirror_mode": {
    "name": "ipython",
    "version": 3
   },
   "file_extension": ".py",
   "mimetype": "text/x-python",
   "name": "python",
   "nbconvert_exporter": "python",
   "pygments_lexer": "ipython3",
   "version": "3.11.5"
  }
 },
 "nbformat": 4,
 "nbformat_minor": 5
}
