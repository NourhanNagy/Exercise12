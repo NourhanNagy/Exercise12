{
  "nbformat": 4,
  "nbformat_minor": 0,
  "metadata": {
    "colab": {
      "provenance": [],
      "authorship_tag": "ABX9TyOjKgc2gHa1Rthy9QwAStcr",
      "include_colab_link": true
    },
    "kernelspec": {
      "name": "python3",
      "display_name": "Python 3"
    },
    "language_info": {
      "name": "python"
    }
  },
  "cells": [
    {
      "cell_type": "markdown",
      "metadata": {
        "id": "view-in-github",
        "colab_type": "text"
      },
      "source": [
        "<a href=\"https://colab.research.google.com/github/NourhanNagy/Exercise12/blob/main/Untitled7.ipynb\" target=\"_parent\"><img src=\"https://colab.research.google.com/assets/colab-badge.svg\" alt=\"Open In Colab\"/></a>"
      ]
    },
    {
      "cell_type": "code",
      "execution_count": null,
      "metadata": {
        "colab": {
          "base_uri": "https://localhost:8080/",
          "height": 1000
        },
        "id": "qUuE4MHlAsEy",
        "outputId": "65157f1e-3456-457a-8d34-a0a56f62f28c"
      },
      "outputs": [
        {
          "output_type": "stream",
          "name": "stdout",
          "text": [
            "Dattaset Shape: (9814, 44)\n",
            "Column Names: Index(['comment_id', 'match_id', 'match_name', 'home_team', 'away_team',\n",
            "       'current_innings', 'innings_id', 'over', 'ball', 'runs', 'shortText',\n",
            "       'isBoundary', 'isWide', 'isNoball', 'batsman1_id', 'batsman1_name',\n",
            "       'batsman1_runs', 'batsman1_balls', 'bowler1_id', 'bowler1_name',\n",
            "       'bowler1_overs', 'bowler1_maidens', 'bowler1_runs', 'bowler1_wkts',\n",
            "       'batsman2_id', 'batsman2_name', 'batsman2_runs', 'batsman2_balls',\n",
            "       'bowler2_id', 'bowler2_name', 'bowler2_overs', 'bowler2_maidens',\n",
            "       'bowler2_runs', 'bowler2_wkts', 'wicket_id', 'wkt_batsman_name',\n",
            "       'wkt_bowler_name', 'wkt_batsman_runs', 'wkt_batsman_balls', 'wkt_text',\n",
            "       'isRetiredHurt', 'text', 'preText', 'postText'],\n",
            "      dtype='object')\n",
            "\n",
            "Summary Statistics:\n",
            "          comment_id      match_id   innings_id         over         ball  \\\n",
            "count    9814.000000  9.814000e+03  9814.000000  9814.000000  9814.000000   \n",
            "mean    85399.661708  1.298157e+06     1.477787    10.082841     3.486856   \n",
            "std     78951.670137  1.355630e+01     0.499532     5.623045     1.707484   \n",
            "min       110.000000  1.298135e+06     1.000000     1.000000     1.000000   \n",
            "25%     18030.000000  1.298145e+06     1.000000     5.000000     2.000000   \n",
            "50%     29010.000000  1.298157e+06     1.000000    10.000000     3.000000   \n",
            "75%    118040.000000  1.298169e+06     2.000000    15.000000     5.000000   \n",
            "max    219090.000000  1.298179e+06     2.000000    20.000000     6.000000   \n",
            "\n",
            "              runs   batsman1_id  batsman1_runs  batsman1_balls    bowler1_id  \\\n",
            "count  9814.000000  9.814000e+03    9814.000000     9814.000000  9.814000e+03   \n",
            "mean      1.202262  5.377303e+05      15.691971       13.249440  6.226676e+05   \n",
            "std       1.476730  3.181419e+05      16.454378       11.471307  3.276842e+05   \n",
            "min       0.000000  5.334000e+03       0.000000        0.000000  8.917000e+03   \n",
            "25%       0.000000  3.089670e+05       4.000000        4.000000  3.481090e+05   \n",
            "50%       1.000000  4.465070e+05      10.000000       10.000000  5.420230e+05   \n",
            "75%       1.000000  7.843670e+05      23.000000       19.000000  9.229430e+05   \n",
            "max       7.000000  1.278252e+06     109.000000       63.000000  1.278252e+06   \n",
            "\n",
            "       ...  batsman2_runs  batsman2_balls    bowler2_id  bowler2_overs  \\\n",
            "count  ...    9814.000000     9814.000000  9.288000e+03    9288.000000   \n",
            "mean   ...      14.978296       12.738537  6.216881e+05       2.172265   \n",
            "std    ...      16.376065       11.596212  3.287888e+05       1.039511   \n",
            "min    ...       0.000000        0.000000  8.917000e+03       0.100000   \n",
            "25%    ...       2.000000        4.000000  3.481090e+05       1.000000   \n",
            "50%    ...       9.000000        9.000000  5.420230e+05       2.000000   \n",
            "75%    ...      23.000000       19.000000  9.229430e+05       3.000000   \n",
            "max    ...     107.000000       63.000000  1.278252e+06       4.000000   \n",
            "\n",
            "       bowler2_maidens  bowler2_runs  bowler2_wkts     wicket_id  \\\n",
            "count      9288.000000   9288.000000   9288.000000  5.510000e+02   \n",
            "mean          0.031654     14.684755      0.641042  5.691470e+05   \n",
            "std           0.182317      9.366489      0.833070  3.305531e+05   \n",
            "min           0.000000      0.000000      0.000000  5.334000e+03   \n",
            "25%           0.000000      7.000000      0.000000  3.233890e+05   \n",
            "50%           0.000000     13.000000      0.000000  4.824780e+05   \n",
            "75%           0.000000     20.000000      1.000000  8.337770e+05   \n",
            "max           2.000000     59.000000      4.000000  1.278252e+06   \n",
            "\n",
            "       wkt_batsman_runs  wkt_batsman_balls  \n",
            "count        551.000000         551.000000  \n",
            "mean          15.029038          13.800363  \n",
            "std           16.466801          11.707343  \n",
            "min            0.000000           1.000000  \n",
            "25%            3.000000           5.000000  \n",
            "50%            9.000000          10.000000  \n",
            "75%           21.000000          19.000000  \n",
            "max          109.000000          60.000000  \n",
            "\n",
            "[8 rows x 25 columns]\n"
          ]
        },
        {
          "output_type": "stream",
          "name": "stderr",
          "text": [
            "/usr/local/lib/python3.10/dist-packages/matplotlib/_tight_bbox.py:64: RuntimeWarning: divide by zero encountered in scalar divide\n",
            "  fig.patch.set_bounds(x0 / w1, y0 / h1,\n",
            "/usr/local/lib/python3.10/dist-packages/matplotlib/_tight_bbox.py:65: RuntimeWarning: divide by zero encountered in scalar divide\n",
            "  fig.bbox.width / w1, fig.bbox.height / h1)\n",
            "/usr/local/lib/python3.10/dist-packages/matplotlib/patches.py:739: RuntimeWarning: invalid value encountered in scalar add\n",
            "  y1 = self.convert_yunits(self._y0 + self._height)\n",
            "/usr/local/lib/python3.10/dist-packages/matplotlib/transforms.py:2042: RuntimeWarning: invalid value encountered in scalar add\n",
            "  self._mtx[1, 2] += ty\n"
          ]
        },
        {
          "output_type": "display_data",
          "data": {
            "text/plain": [
              "<Figure size 1000x0 with 1 Axes>"
            ],
            "image/png": "[encoded data removed]"
          },
          "metadata": {}
        },
        {
          "output_type": "stream",
          "name": "stdout",
          "text": [
            "\n",
            "Team Statistics\n",
            "   home_team  runs   wicket_id\n",
            "4      INDIA  1534  28651573.0\n",
            "8         NZ  1211  28666235.0\n",
            "12        SL  1131  37566515.0\n",
            "15       ZIM   936  28003533.0\n",
            "11      SCOT   898  17179775.0\n",
            "9        PAK   880  24611139.0\n",
            "2        BAN   829  26544430.0\n",
            "1        AUS   630  15765525.0\n",
            "14        WI   564  12420034.0\n",
            "5        IRE   523  13267496.0\n",
            "0        AFG   516  16291145.0\n",
            "6        NAM   514  18623859.0\n",
            "13       UAE   510  20259006.0\n",
            "7        NED   485  12847320.0\n",
            "3        ENG   337   5374034.0\n",
            "10        SA   301   7528362.0\n"
          ]
        },
        {
          "output_type": "error",
          "ename": "KeyError",
          "evalue": "\"None of [Index(['Match_ID', 'Winner'], dtype='object')] are in the [columns]\"",
          "traceback": [
            "\u001b[0;31m---------------------------------------------------------------------------\u001b[0m",
            "\u001b[0;31mKeyError\u001b[0m                                  Traceback (most recent call last)",
            "\u001b[0;32m<ipython-input-24-ec05b9f7e96a>\u001b[0m in \u001b[0;36m<cell line: 26>\u001b[0;34m()\u001b[0m\n\u001b[1;32m     24\u001b[0m \u001b[0;34m\u001b[0m\u001b[0m\n\u001b[1;32m     25\u001b[0m \u001b[0mboundary_impact\u001b[0m\u001b[0;34m=\u001b[0m \u001b[0mt20_data\u001b[0m\u001b[0;34m.\u001b[0m\u001b[0mgroupby\u001b[0m\u001b[0;34m(\u001b[0m\u001b[0;34m'match_id'\u001b[0m\u001b[0;34m)\u001b[0m\u001b[0;34m[\u001b[0m\u001b[0;34m'runs'\u001b[0m\u001b[0;34m]\u001b[0m\u001b[0;34m.\u001b[0m\u001b[0mapply\u001b[0m\u001b[0;34m(\u001b[0m\u001b[0;32mlambda\u001b[0m \u001b[0mx\u001b[0m\u001b[0;34m:\u001b[0m\u001b[0;34m(\u001b[0m\u001b[0mx\u001b[0m\u001b[0;34m==\u001b[0m\u001b[0;36m4\u001b[0m\u001b[0;34m)\u001b[0m\u001b[0;34m.\u001b[0m\u001b[0msum\u001b[0m\u001b[0;34m(\u001b[0m\u001b[0;34m)\u001b[0m\u001b[0;34m)\u001b[0m\u001b[0;34m.\u001b[0m\u001b[0mreset_index\u001b[0m\u001b[0;34m(\u001b[0m\u001b[0mname\u001b[0m\u001b[0;34m=\u001b[0m\u001b[0;34m'Boundary_Count'\u001b[0m\u001b[0;34m)\u001b[0m\u001b[0;34m\u001b[0m\u001b[0;34m\u001b[0m\u001b[0m\n\u001b[0;32m---> 26\u001b[0;31m \u001b[0mboundary_impact\u001b[0m \u001b[0;34m=\u001b[0m \u001b[0mpd\u001b[0m\u001b[0;34m.\u001b[0m\u001b[0mmerge\u001b[0m\u001b[0;34m(\u001b[0m\u001b[0mboundary_impact\u001b[0m\u001b[0;34m,\u001b[0m \u001b[0mt20_data\u001b[0m\u001b[0;34m[\u001b[0m\u001b[0;34m[\u001b[0m\u001b[0;34m'Match_ID'\u001b[0m\u001b[0;34m,\u001b[0m \u001b[0;34m'Winner'\u001b[0m\u001b[0;34m]\u001b[0m\u001b[0;34m]\u001b[0m\u001b[0;34m,\u001b[0m \u001b[0mon\u001b[0m\u001b[0;34m=\u001b[0m\u001b[0;34m'Match_ID'\u001b[0m\u001b[0;34m)\u001b[0m\u001b[0;34m\u001b[0m\u001b[0;34m\u001b[0m\u001b[0m\n\u001b[0m\u001b[1;32m     27\u001b[0m \u001b[0mboundary_impact\u001b[0m\u001b[0;34m[\u001b[0m\u001b[0;34m'Match_Result'\u001b[0m\u001b[0;34m]\u001b[0m \u001b[0;34m=\u001b[0m \u001b[0mboundary_impact\u001b[0m\u001b[0;34m.\u001b[0m\u001b[0mapply\u001b[0m\u001b[0;34m(\u001b[0m\u001b[0;32mlambda\u001b[0m \u001b[0mx\u001b[0m\u001b[0;34m:\u001b[0m \u001b[0;34m'Win'\u001b[0m \u001b[0;32mif\u001b[0m \u001b[0mx\u001b[0m\u001b[0;34m[\u001b[0m\u001b[0;34m'Winner'\u001b[0m\u001b[0;34m]\u001b[0m \u001b[0;34m==\u001b[0m \u001b[0mx\u001b[0m\u001b[0;34m[\u001b[0m\u001b[0;34m'Team'\u001b[0m\u001b[0;34m]\u001b[0m \u001b[0;32melse\u001b[0m \u001b[0;34m'Loss'\u001b[0m\u001b[0;34m,\u001b[0m \u001b[0maxis\u001b[0m\u001b[0;34m=\u001b[0m\u001b[0;36m1\u001b[0m\u001b[0;34m)\u001b[0m\u001b[0;34m\u001b[0m\u001b[0;34m\u001b[0m\u001b[0m\n\u001b[1;32m     28\u001b[0m \u001b[0mboundary_impact_summary\u001b[0m \u001b[0;34m=\u001b[0m \u001b[0mboundary_impact\u001b[0m\u001b[0;34m.\u001b[0m\u001b[0mgroupby\u001b[0m\u001b[0;34m(\u001b[0m\u001b[0;34m'Match_Result'\u001b[0m\u001b[0;34m)\u001b[0m\u001b[0;34m[\u001b[0m\u001b[0;34m'Boundary_Count'\u001b[0m\u001b[0;34m]\u001b[0m\u001b[0;34m.\u001b[0m\u001b[0mmean\u001b[0m\u001b[0;34m(\u001b[0m\u001b[0;34m)\u001b[0m\u001b[0;34m.\u001b[0m\u001b[0mreset_index\u001b[0m\u001b[0;34m(\u001b[0m\u001b[0;34m)\u001b[0m\u001b[0;34m\u001b[0m\u001b[0;34m\u001b[0m\u001b[0m\n",
            "\u001b[0;32m/usr/local/lib/python3.10/dist-packages/pandas/core/frame.py\u001b[0m in \u001b[0;36m__getitem__\u001b[0;34m(self, key)\u001b[0m\n\u001b[1;32m   3765\u001b[0m             \u001b[0;32mif\u001b[0m \u001b[0mis_iterator\u001b[0m\u001b[0;34m(\u001b[0m\u001b[0mkey\u001b[0m\u001b[0;34m)\u001b[0m\u001b[0;34m:\u001b[0m\u001b[0;34m\u001b[0m\u001b[0;34m\u001b[0m\u001b[0m\n\u001b[1;32m   3766\u001b[0m                 \u001b[0mkey\u001b[0m \u001b[0;34m=\u001b[0m \u001b[0mlist\u001b[0m\u001b[0;34m(\u001b[0m\u001b[0mkey\u001b[0m\u001b[0;34m)\u001b[0m\u001b[0;34m\u001b[0m\u001b[0;34m\u001b[0m\u001b[0m\n\u001b[0;32m-> 3767\u001b[0;31m             \u001b[0mindexer\u001b[0m \u001b[0;34m=\u001b[0m \u001b[0mself\u001b[0m\u001b[0;34m.\u001b[0m\u001b[0mcolumns\u001b[0m\u001b[0;34m.\u001b[0m\u001b[0m_get_indexer_strict\u001b[0m\u001b[0;34m(\u001b[0m\u001b[0mkey\u001b[0m\u001b[0;34m,\u001b[0m \u001b[0;34m\"columns\"\u001b[0m\u001b[0;34m)\u001b[0m\u001b[0;34m[\u001b[0m\u001b[0;36m1\u001b[0m\u001b[0;34m]\u001b[0m\u001b[0;34m\u001b[0m\u001b[0;34m\u001b[0m\u001b[0m\n\u001b[0m\u001b[1;32m   3768\u001b[0m \u001b[0;34m\u001b[0m\u001b[0m\n\u001b[1;32m   3769\u001b[0m         \u001b[0;31m# take() does not accept boolean indexers\u001b[0m\u001b[0;34m\u001b[0m\u001b[0;34m\u001b[0m\u001b[0m\n",
            "\u001b[0;32m/usr/local/lib/python3.10/dist-packages/pandas/core/indexes/base.py\u001b[0m in \u001b[0;36m_get_indexer_strict\u001b[0;34m(self, key, axis_name)\u001b[0m\n\u001b[1;32m   5875\u001b[0m             \u001b[0mkeyarr\u001b[0m\u001b[0;34m,\u001b[0m \u001b[0mindexer\u001b[0m\u001b[0;34m,\u001b[0m \u001b[0mnew_indexer\u001b[0m \u001b[0;34m=\u001b[0m \u001b[0mself\u001b[0m\u001b[0;34m.\u001b[0m\u001b[0m_reindex_non_unique\u001b[0m\u001b[0;34m(\u001b[0m\u001b[0mkeyarr\u001b[0m\u001b[0;34m)\u001b[0m\u001b[0;34m\u001b[0m\u001b[0;34m\u001b[0m\u001b[0m\n\u001b[1;32m   5876\u001b[0m \u001b[0;34m\u001b[0m\u001b[0m\n\u001b[0;32m-> 5877\u001b[0;31m         \u001b[0mself\u001b[0m\u001b[0;34m.\u001b[0m\u001b[0m_raise_if_missing\u001b[0m\u001b[0;34m(\u001b[0m\u001b[0mkeyarr\u001b[0m\u001b[0;34m,\u001b[0m \u001b[0mindexer\u001b[0m\u001b[0;34m,\u001b[0m \u001b[0maxis_name\u001b[0m\u001b[0;34m)\u001b[0m\u001b[0;34m\u001b[0m\u001b[0;34m\u001b[0m\u001b[0m\n\u001b[0m\u001b[1;32m   5878\u001b[0m \u001b[0;34m\u001b[0m\u001b[0m\n\u001b[1;32m   5879\u001b[0m         \u001b[0mkeyarr\u001b[0m \u001b[0;34m=\u001b[0m \u001b[0mself\u001b[0m\u001b[0;34m.\u001b[0m\u001b[0mtake\u001b[0m\u001b[0;34m(\u001b[0m\u001b[0mindexer\u001b[0m\u001b[0;34m)\u001b[0m\u001b[0;34m\u001b[0m\u001b[0;34m\u001b[0m\u001b[0m\n",
            "\u001b[0;32m/usr/local/lib/python3.10/dist-packages/pandas/core/indexes/base.py\u001b[0m in \u001b[0;36m_raise_if_missing\u001b[0;34m(self, key, indexer, axis_name)\u001b[0m\n\u001b[1;32m   5936\u001b[0m                 \u001b[0;32mif\u001b[0m \u001b[0muse_interval_msg\u001b[0m\u001b[0;34m:\u001b[0m\u001b[0;34m\u001b[0m\u001b[0;34m\u001b[0m\u001b[0m\n\u001b[1;32m   5937\u001b[0m                     \u001b[0mkey\u001b[0m \u001b[0;34m=\u001b[0m \u001b[0mlist\u001b[0m\u001b[0;34m(\u001b[0m\u001b[0mkey\u001b[0m\u001b[0;34m)\u001b[0m\u001b[0;34m\u001b[0m\u001b[0;34m\u001b[0m\u001b[0m\n\u001b[0;32m-> 5938\u001b[0;31m                 \u001b[0;32mraise\u001b[0m \u001b[0mKeyError\u001b[0m\u001b[0;34m(\u001b[0m\u001b[0;34mf\"None of [{key}] are in the [{axis_name}]\"\u001b[0m\u001b[0;34m)\u001b[0m\u001b[0;34m\u001b[0m\u001b[0;34m\u001b[0m\u001b[0m\n\u001b[0m\u001b[1;32m   5939\u001b[0m \u001b[0;34m\u001b[0m\u001b[0m\n\u001b[1;32m   5940\u001b[0m             \u001b[0mnot_found\u001b[0m \u001b[0;34m=\u001b[0m \u001b[0mlist\u001b[0m\u001b[0;34m(\u001b[0m\u001b[0mensure_index\u001b[0m\u001b[0;34m(\u001b[0m\u001b[0mkey\u001b[0m\u001b[0;34m)\u001b[0m\u001b[0;34m[\u001b[0m\u001b[0mmissing_mask\u001b[0m\u001b[0;34m.\u001b[0m\u001b[0mnonzero\u001b[0m\u001b[0;34m(\u001b[0m\u001b[0;34m)\u001b[0m\u001b[0;34m[\u001b[0m\u001b[0;36m0\u001b[0m\u001b[0;34m]\u001b[0m\u001b[0;34m]\u001b[0m\u001b[0;34m.\u001b[0m\u001b[0munique\u001b[0m\u001b[0;34m(\u001b[0m\u001b[0;34m)\u001b[0m\u001b[0;34m)\u001b[0m\u001b[0;34m\u001b[0m\u001b[0;34m\u001b[0m\u001b[0m\n",
            "\u001b[0;31mKeyError\u001b[0m: \"None of [Index(['Match_ID', 'Winner'], dtype='object')] are in the [columns]\""
          ]
        }
      ],
      "source": [
        "import pandas as pd\n",
        "import matplotlib.pyplot as plt\n",
        "import seaborn as sns\n",
        "t20_data=pd.read_csv('/content/T-20 World cup 2022.csv')\n",
        "\n",
        "print(\"Dattaset Shape:\", t20_data.shape)\n",
        "print(\"Column Names:\", t20_data.columns)\n",
        "\n",
        "print(\"\\nSummary Statistics:\")\n",
        "print(t20_data.describe())\n",
        "\n",
        "plt.figure(figsize=(10, 0))\n",
        "t20_data.groupby('home_team')['runs'].sum().plot(kind='bar', color='blue')\n",
        "plt.title(\"Total Runs Scored by each time\")\n",
        "plt.xlabel(\"PAK Team\")\n",
        "plt.ylabel(\"Total runs scored\")\n",
        "plt.xticks(rotation=45)\n",
        "plt.show()\n",
        "\n",
        "team_stats = t20_data.groupby('home_team').agg({'runs': 'sum', 'wicket_id': 'sum'}).reset_index()\n",
        "team_stats=team_stats.sort_values(by=['runs', 'wicket_id'], ascending=False)\n",
        "print('\\nTeam Statistics')\n",
        "print(team_stats)\n",
        "\n",
        "boundary_impact= t20_data.groupby('match_id')['runs'].apply(lambda x:(x==4).sum()).reset_index(name='Boundary_Count')\n",
        "boundary_impact = pd.merge(boundary_impact, t20_data[['match_id', 'Winner']], on='Match_ID')\n",
        "boundary_impact['Match_Result'] = boundary_impact.apply(lambda x: 'Win' if x['Winner'] == x['Team'] else 'Loss', axis=1)\n",
        "boundary_impact_summary = boundary_impact.groupby('match_result')['Boundary_Count'].mean().reset_index()\n",
        "print(\"\\nAverage Boundary Count in Winning and Losing Matches:\")\n",
        "print(boundary_impact_summary)\n",
        "\n",
        "team_performance = t20_data.groupby('home_team').agg({'runs': 'mean', 'wicket_count': 'mean'}).reset_index()\n",
        "team_performance = team_performance.sort_values(by=['runs', 'wicket_count'], ascending=False)\n",
        "print(\"\\nTeam Performance Summary:\")\n",
        "print(team_performance)\n",
        "\n",
        "plt.figure(figsize=(8, 6))\n",
        "plt.scatter(t20_data['runs'], t20_data['wicket_count'], alpha=0.5)\n",
        "plt.title('Correlation between Runs Scored and Wickets Taken')\n",
        "plt.xlabel('Runs')\n",
        "plt.ylabel('Wickets')\n",
        "plt.show()"
      ]
    }
  ]
}